{
 "cells": [
  {
   "cell_type": "code",
   "execution_count": 2,
   "metadata": {},
   "outputs": [],
   "source": [
    "y_true = [1,1,0,0,1,0,0,0,1,1]\n",
    "y_pred = [1,1,0,0,1,0,0,0,1,1]"
   ]
  },
  {
   "cell_type": "code",
   "execution_count": 4,
   "metadata": {},
   "outputs": [
    {
     "data": {
      "text/plain": [
       "100.0"
      ]
     },
     "execution_count": 4,
     "metadata": {},
     "output_type": "execute_result"
    }
   ],
   "source": [
    "from sklearn.metrics import accuracy_score\n",
    "\n",
    "acc = accuracy_score(y_true, y_pred)\n",
    "acc*100"
   ]
  },
  {
   "cell_type": "code",
   "execution_count": 5,
   "metadata": {},
   "outputs": [
    {
     "data": {
      "text/plain": [
       "100.0"
      ]
     },
     "execution_count": 5,
     "metadata": {},
     "output_type": "execute_result"
    }
   ],
   "source": [
    "from sklearn.metrics import precision_score\n",
    "pr = precision_score(y_true, y_pred)\n",
    "pr*100"
   ]
  },
  {
   "cell_type": "code",
   "execution_count": 6,
   "metadata": {},
   "outputs": [
    {
     "data": {
      "text/plain": [
       "100.0"
      ]
     },
     "execution_count": 6,
     "metadata": {},
     "output_type": "execute_result"
    }
   ],
   "source": [
    "from sklearn.metrics import recall_score\n",
    "\n",
    "r = recall_score(y_true, y_pred)\n",
    "r*100"
   ]
  },
  {
   "cell_type": "code",
   "execution_count": 7,
   "metadata": {},
   "outputs": [
    {
     "name": "stdout",
     "output_type": "stream",
     "text": [
      "90.0\n",
      "100.0\n",
      "80.0\n"
     ]
    }
   ],
   "source": [
    "y_true = [1,1,0,0,1,0,0,0,1,1]\n",
    "y_pred = [0,1,0,0,1,0,0,0,1,1]\n",
    "\n",
    "acc = accuracy_score(y_true,y_pred)\n",
    "print(acc*100)\n",
    "\n",
    "pr = precision_score(y_true, y_pred)\n",
    "print(pr*100)\n",
    "\n",
    "r = recall_score(y_true, y_pred)\n",
    "print(r*100)"
   ]
  },
  {
   "cell_type": "code",
   "execution_count": 8,
   "metadata": {},
   "outputs": [
    {
     "name": "stdout",
     "output_type": "stream",
     "text": [
      "90.0\n",
      "83.33333333333334\n",
      "100.0\n"
     ]
    }
   ],
   "source": [
    "y_true = [1,1,0,0,1,0,0,0,1,1]\n",
    "y_pred = [1,1,1,0,1,0,0,0,1,1]\n",
    "\n",
    "acc = accuracy_score(y_true,y_pred)\n",
    "print(acc*100)\n",
    "\n",
    "pr = precision_score(y_true, y_pred)\n",
    "print(pr*100)\n",
    "\n",
    "r = recall_score(y_true, y_pred)\n",
    "print(r*100)"
   ]
  },
  {
   "cell_type": "code",
   "execution_count": null,
   "metadata": {},
   "outputs": [],
   "source": []
  }
 ],
 "metadata": {
  "kernelspec": {
   "display_name": "learning_venv",
   "language": "python",
   "name": "python3"
  },
  "language_info": {
   "codemirror_mode": {
    "name": "ipython",
    "version": 3
   },
   "file_extension": ".py",
   "mimetype": "text/x-python",
   "name": "python",
   "nbconvert_exporter": "python",
   "pygments_lexer": "ipython3",
   "version": "3.11.2"
  }
 },
 "nbformat": 4,
 "nbformat_minor": 2
}
