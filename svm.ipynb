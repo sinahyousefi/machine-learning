{
 "cells": [
  {
   "cell_type": "markdown",
   "metadata": {},
   "source": [
    "## Classification w/ K Nearest Neighbors Intro"
   ]
  },
  {
   "cell_type": "code",
   "execution_count": 3,
   "metadata": {},
   "outputs": [],
   "source": [
    "import pandas as pd\n",
    "import math\n",
    "import numpy as np\n",
    "from sklearn import preprocessing, neighbors\n",
    "from sklearn.svm import SVR\n",
    "from sklearn.model_selection import train_test_split\n",
    "import matplotlib.pyplot as plt\n",
    "import datetime\n",
    "import pickle\n",
    "\n"
   ]
  },
  {
   "cell_type": "code",
   "execution_count": 23,
   "metadata": {},
   "outputs": [
    {
     "name": "stdout",
     "output_type": "stream",
     "text": [
      "   clump_thickness  unif_cell_size  unif_cell_shape  marg_adhesion   \n",
      "0                5               1                1              1  \\\n",
      "1                5               4                4              5   \n",
      "2                3               1                1              1   \n",
      "3                6               8                8              1   \n",
      "4                4               1                1              3   \n",
      "\n",
      "   single_epith_cell_size bare_nuclei  bland_chrom  norm_nucleoli  mitoses   \n",
      "0                       2           1            3              1        1  \\\n",
      "1                       7          10            3              2        1   \n",
      "2                       2           2            3              1        1   \n",
      "3                       3           4            3              7        1   \n",
      "4                       2           1            3              1        1   \n",
      "\n",
      "   class  \n",
      "0      2  \n",
      "1      2  \n",
      "2      2  \n",
      "3      2  \n",
      "4      2  \n"
     ]
    }
   ],
   "source": [
    "df = pd.read_csv('breast+cancer+wisconsin+original/breast-cancer-wisconsin.data')\n",
    "# print(df.head())\n",
    "# print(df[df.isin(['?'])])\n",
    "\n",
    "df.replace('?', -9999, inplace=True)\n",
    "\n",
    "df.drop([\"id\"], axis=1, inplace=True)\n",
    "print(df.head())"
   ]
  },
  {
   "cell_type": "code",
   "execution_count": 31,
   "metadata": {},
   "outputs": [
    {
     "name": "stdout",
     "output_type": "stream",
     "text": [
      "140 559 140 559\n"
     ]
    }
   ],
   "source": [
    "# Data Preprocessing\n",
    "\n",
    "x = np.array(df.drop('class', axis=1))\n",
    "y = np.array(df['class'])\n",
    "\n",
    "x_train, x_test, y_train, y_test = train_test_split(x, y, test_size=0.2)\n",
    "print(len(x_test), len(x_train), len(y_test), len(y_train))"
   ]
  },
  {
   "cell_type": "code",
   "execution_count": 32,
   "metadata": {},
   "outputs": [
    {
     "data": {
      "text/plain": [
       "0.9571428571428572"
      ]
     },
     "execution_count": 32,
     "metadata": {},
     "output_type": "execute_result"
    }
   ],
   "source": [
    "# train model\n",
    "\n",
    "model = neighbors.KNeighborsClassifier()\n",
    "model.fit(x_train, y_train)\n",
    "accuracy = model.score(x_test, y_test)\n",
    "accuracy"
   ]
  },
  {
   "cell_type": "code",
   "execution_count": 40,
   "metadata": {},
   "outputs": [
    {
     "data": {
      "text/plain": [
       "array([2, 2], dtype=int64)"
      ]
     },
     "execution_count": 40,
     "metadata": {},
     "output_type": "execute_result"
    }
   ],
   "source": [
    "example_measure = np.array([[4,2,1,1,1,2,3,2,1],[4,2,1,3,2,2,3,2,1]])\n",
    "example_measure = example_measure.reshape(len(example_measure), -1)\n",
    "\n",
    "prediction = model.predict(example_measure)\n",
    "\n",
    "prediction"
   ]
  },
  {
   "cell_type": "markdown",
   "metadata": {},
   "source": [
    "## Creating K Nearest Neighbors Algorithm"
   ]
  },
  {
   "cell_type": "code",
   "execution_count": 53,
   "metadata": {},
   "outputs": [
    {
     "name": "stdout",
     "output_type": "stream",
     "text": [
      "2.23606797749979 2.23606797749979\n"
     ]
    },
    {
     "data": {
      "text/plain": [
       "<matplotlib.collections.PathCollection at 0x1f1cc46e810>"
      ]
     },
     "execution_count": 53,
     "metadata": {},
     "output_type": "execute_result"
    },
    {
     "data": {
      "image/png": "[encoded data removed]",
      "text/plain": [
       "<Figure size 640x480 with 1 Axes>"
      ]
     },
     "metadata": {},
     "output_type": "display_data"
    }
   ],
   "source": [
    "from math import sqrt\n",
    "import numpy as np\n",
    "import matplotlib.pyplot as plt\n",
    "import warnings\n",
    "from collections import Counter\n",
    "import pandas as pd\n",
    "import random\n",
    "\n",
    "plot1 = [1,3]\n",
    "plot2 = [2,5]\n",
    "\n",
    "euclidean_distance = sqrt( (plot1[0] - plot2[0])**2 + (plot1[1] - plot2[1])**2)\n",
    "euclidean_distance2 = np.sqrt(np.sum( (np.array(plot1) - np.array(plot2))**2))\n",
    "print(euclidean_distance, euclidean_distance2)\n",
    "\n",
    "dataset = {'k':[[1,2],[2,3],[3,1]], 'r': [[6,5],[7,7],[8,6]]}\n",
    "new_features = [5,7]\n",
    "\n",
    "for i in dataset:\n",
    "    for ii in dataset[i]:\n",
    "        plt.scatter(ii[0],ii[1], s=100, color=i)\n",
    "plt.scatter(new_features[0], new_features[1])\n"
   ]
  },
  {
   "cell_type": "code",
   "execution_count": 80,
   "metadata": {},
   "outputs": [
    {
     "name": "stdout",
     "output_type": "stream",
     "text": [
      "('k', 1.0)\n"
     ]
    },
    {
     "data": {
      "text/plain": [
       "<matplotlib.collections.PathCollection at 0x1f1cf875090>"
      ]
     },
     "execution_count": 80,
     "metadata": {},
     "output_type": "execute_result"
    },
    {
     "data": {
      "image/png": "[encoded data removed]",
      "text/plain": [
       "<Figure size 640x480 with 1 Axes>"
      ]
     },
     "metadata": {},
     "output_type": "display_data"
    }
   ],
   "source": [
    "def knn(data, predict, k=3):\n",
    "    if len(data)>= k:\n",
    "        warnings.warn('K is set to a value less than total voting groups!')\n",
    "        \n",
    "    distances = []\n",
    "    for group in data:\n",
    "        for feature in data[group]:\n",
    "            euclidean_distance = np.linalg.norm(np.array(feature) - np.array(predict))\n",
    "            distances.append([euclidean_distance, group])\n",
    "    votes = [i[1] for i in sorted(distances)[:k]]\n",
    "    # print(Counter(votes).most_common(1))\n",
    "    vote_result = Counter(votes).most_common(1)[0][0]\n",
    "    confidence = Counter(votes).most_common(1)[0][1]/k\n",
    "    \n",
    "    return vote_result, confidence\n",
    "\n",
    "new_features = [5,1]\n",
    "results = knn(dataset, new_features, k=3)\n",
    "print(results)\n",
    "\n",
    "for i in dataset:\n",
    "    for ii in dataset[i]:\n",
    "        plt.scatter(ii[0],ii[1], s=100, color=i)\n",
    "plt.scatter(new_features[0], new_features[1], color=results)"
   ]
  },
  {
   "cell_type": "code",
   "execution_count": 104,
   "metadata": {},
   "outputs": [
    {
     "name": "stdout",
     "output_type": "stream",
     "text": [
      "[0.9713261648745519, 0.956989247311828, 0.978494623655914, 0.9713261648745519, 0.96415770609319, 0.953405017921147, 0.967741935483871, 0.9713261648745519, 0.967741935483871, 0.9605734767025089, 0.974910394265233, 0.974910394265233, 0.9605734767025089, 0.96415770609319, 0.956989247311828, 0.978494623655914, 0.974910394265233, 0.9605734767025089, 0.953405017921147, 0.956989247311828, 0.978494623655914, 0.953405017921147, 0.96415770609319, 0.96415770609319, 0.985663082437276]\n"
     ]
    },
    {
     "data": {
      "text/plain": [
       "0.9665949820788531"
      ]
     },
     "execution_count": 104,
     "metadata": {},
     "output_type": "execute_result"
    }
   ],
   "source": [
    "accuracies = []\n",
    "\n",
    "for i in range(25):\n",
    "    df = pd.read_csv('breast+cancer+wisconsin+original/breast-cancer-wisconsin.data')\n",
    "    df.replace('?',-9999,inplace=True)\n",
    "    df.drop(['id'],axis=1,inplace=True)\n",
    "    df.head()\n",
    "\n",
    "    full_data = df.astype(float).values.tolist()\n",
    "    #print(full_data[:3])\n",
    "    random.shuffle(full_data)\n",
    "    #print(full_data[:3])\n",
    "\n",
    "    test_size = 0.4\n",
    "    train_data = full_data[:-int(test_size*len(full_data))]\n",
    "    test_data = full_data[-int(test_size*len(full_data)):]\n",
    "\n",
    "    train_set = {2:[],4:[]}\n",
    "    test_set = {2:[],4:[]}\n",
    "\n",
    "    for i in train_data:\n",
    "        train_set[i[-1]].append(i[:-1])\n",
    "    for i in test_data:\n",
    "        test_set[i[-1]].append(i[:-1])  \n",
    "\n",
    "    correct = 0\n",
    "    total = 0\n",
    "\n",
    "    for group in test_set:\n",
    "        for data in test_set[group]:\n",
    "            vote, conf = knn(train_set,data,k=5)\n",
    "            if group == vote:\n",
    "                correct += 1\n",
    "            #else:\n",
    "                #print(conf)\n",
    "            total += 1\n",
    "            \n",
    "    #print('accuracy', correct/total)    \n",
    "            \n",
    "    accuracies.append(correct/total)    \n",
    "\n",
    "print(accuracies)\n",
    "np.mean(accuracies)\n",
    "\n",
    "        "
   ]
  },
  {
   "cell_type": "code",
   "execution_count": 108,
   "metadata": {},
   "outputs": [
    {
     "name": "stdout",
     "output_type": "stream",
     "text": [
      "[0.9571428571428572, 0.9714285714285714, 0.9357142857142857, 0.9785714285714285, 0.9714285714285714, 0.9714285714285714, 0.9857142857142858, 0.9785714285714285, 0.9714285714285714, 0.9642857142857143, 0.95, 0.9714285714285714, 0.9571428571428572, 0.9785714285714285, 0.9857142857142858, 0.9714285714285714, 0.9642857142857143, 0.9428571428571428, 0.9785714285714285, 0.9857142857142858, 0.9785714285714285, 0.9857142857142858, 0.95, 0.9642857142857143, 0.9928571428571429]\n"
     ]
    },
    {
     "data": {
      "text/plain": [
       "0.9697142857142858"
      ]
     },
     "execution_count": 108,
     "metadata": {},
     "output_type": "execute_result"
    }
   ],
   "source": [
    "accuracies = []\n",
    "\n",
    "for i in range(25):\n",
    "    df = pd.read_csv('breast+cancer+wisconsin+original/breast-cancer-wisconsin.data')\n",
    "    df.replace('?', -99999, inplace=True)\n",
    "    df.drop('id',axis=1,inplace=True)\n",
    "\n",
    "    x = np.array(df.drop(['class'],axis=1))\n",
    "    y = np.array(df['class'])\n",
    "\n",
    "    x_train, x_test, y_train, y_test = train_test_split(x,y,test_size=0.2)\n",
    "\n",
    "    model = neighbors.KNeighborsClassifier(n_jobs=-1, n_neighbors=5)\n",
    "    model.fit(x_train,y_train)\n",
    "\n",
    "    accuracy = model.score(x_test, y_test)\n",
    "\n",
    "    accuracies.append(accuracy)\n",
    "    \n",
    "print(accuracies)\n",
    "np.mean(accuracies)\n"
   ]
  },
  {
   "cell_type": "code",
   "execution_count": null,
   "metadata": {},
   "outputs": [],
   "source": []
  }
 ],
 "metadata": {
  "kernelspec": {
   "display_name": "Python 3",
   "language": "python",
   "name": "python3"
  },
  "language_info": {
   "codemirror_mode": {
    "name": "ipython",
    "version": 3
   },
   "file_extension": ".py",
   "mimetype": "text/x-python",
   "name": "python",
   "nbconvert_exporter": "python",
   "pygments_lexer": "ipython3",
   "version": "3.11.2"
  }
 },
 "nbformat": 4,
 "nbformat_minor": 2
}
