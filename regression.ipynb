{
 "cells": [
  {
   "cell_type": "markdown",
   "metadata": {},
   "source": [
    "## Regression Intro"
   ]
  },
  {
   "cell_type": "code",
   "execution_count": 282,
   "metadata": {},
   "outputs": [],
   "source": [
    "import pandas as pd\n",
    "import yfinance as yf\n",
    "import math\n",
    "import numpy as np\n",
    "from sklearn import preprocessing\n",
    "from sklearn.svm import SVR\n",
    "from sklearn.model_selection import train_test_split\n",
    "from sklearn.linear_model import LinearRegression\n",
    "import matplotlib.pyplot as plt\n",
    "import datetime\n",
    "import pickle\n",
    "\n"
   ]
  },
  {
   "cell_type": "code",
   "execution_count": 283,
   "metadata": {},
   "outputs": [
    {
     "name": "stderr",
     "output_type": "stream",
     "text": [
      "[*********************100%***********************]  1 of 1 completed"
     ]
    },
    {
     "name": "stdout",
     "output_type": "stream",
     "text": [
      "Price           Close       High        Low       Open     Volume\n",
      "Ticker          GOOGL      GOOGL      GOOGL      GOOGL      GOOGL\n",
      "Date                                                             \n",
      "2010-01-04  15.609804  15.678545  15.547291  15.614785   78169752\n",
      "2010-01-05  15.541064  15.636953  15.480045  15.620515  120067812\n",
      "2010-01-06  15.149293  15.587637  15.101972  15.587637  158988852\n",
      "2010-01-07  14.796625  15.192631  14.760512  15.177686  256315428\n",
      "2010-01-08  14.993881  15.024515  14.672344  14.744323  188783028\n",
      "Price           Close       High        Low       Open     Volume    HL_PCT   \n",
      "Ticker          GOOGL      GOOGL      GOOGL      GOOGL      GOOGL             \n",
      "Date                                                                          \n",
      "2010-01-04  15.609804  15.678545  15.547291  15.614785   78169752  0.844225  \\\n",
      "2010-01-05  15.541064  15.636953  15.480045  15.620515  120067812  1.013611   \n",
      "2010-01-06  15.149293  15.587637  15.101972  15.587637  158988852  3.215908   \n",
      "2010-01-07  14.796625  15.192631  14.760512  15.177686  256315428  2.927528   \n",
      "2010-01-08  14.993881  15.024515  14.672344  14.744323  188783028  2.400233   \n",
      "\n",
      "Price      PCT_change  \n",
      "Ticker                 \n",
      "Date                   \n",
      "2010-01-04  -0.031900  \n",
      "2010-01-05  -0.508628  \n",
      "2010-01-06  -2.812129  \n",
      "2010-01-07  -2.510668  \n",
      "2010-01-08   1.692573  \n",
      "Price           Close    HL_PCT PCT_change     Volume\n",
      "Ticker          GOOGL                           GOOGL\n",
      "Date                                                 \n",
      "2010-01-04  15.609804  0.844225  -0.031900   78169752\n",
      "2010-01-05  15.541064  1.013611  -0.508628  120067812\n",
      "2010-01-06  15.149293  3.215908  -2.812129  158988852\n",
      "2010-01-07  14.796625  2.927528  -2.510668  256315428\n",
      "2010-01-08  14.993881  2.400233   1.692573  188783028\n",
      "Price            Close    HL_PCT PCT_change    Volume       label\n",
      "Ticker           GOOGL                          GOOGL            \n",
      "Date                                                             \n",
      "2023-06-15  124.494797  2.499998   1.583561  35246300  196.433777\n",
      "2023-06-16  122.942223  2.295589  -1.905822  45514000  195.195190\n",
      "2023-06-20  122.514259  1.989520   0.138289  26097500  188.183258\n",
      "2023-06-21  119.976402  2.131561  -1.511437  30306300  188.293137\n",
      "2023-06-22  122.564026  3.711181   2.625001  26952200  191.189804\n",
      "2023-06-23  121.757881  1.429046   0.790904  34885300  194.406113\n",
      "2023-06-26  117.776909  3.153804  -2.003980  33969900  195.884399\n",
      "2023-06-27  117.766960  2.566756   1.067646  39535900  195.375000\n",
      "2023-06-28  119.608162  3.029526   2.638999  27091400  192.538254\n",
      "2023-06-29  118.533295  1.487738  -0.117410  24090900  191.020004\n"
     ]
    },
    {
     "name": "stderr",
     "output_type": "stream",
     "text": [
      "\n"
     ]
    }
   ],
   "source": [
    "df = yf.download('GOOGL', start='2010-01-01', end='2024-12-31')\n",
    "print(df.head())\n",
    "\n",
    "# high minus low percent\n",
    "df[\"HL_PCT\"] = (df['High'] - df['Low']) / df['Low'] * 100\n",
    "\n",
    "# daily percent change\n",
    "df[\"PCT_change\"] = (df['Close'] - df['Open']) / df['Open'] * 100\n",
    "\n",
    "print(df.head())\n",
    "\n",
    "df = df[['Close','HL_PCT',\"PCT_change\",'Volume']]\n",
    "print(df.head())\n",
    "\n",
    "forecast_col = 'Close'\n",
    "df.fillna(-99999, inplace=True) # it helps to keep data as an outlier instead of get rid of the data points\n",
    "forecast_out = int(math.ceil(0.1*len(df)))\n",
    "\n",
    "df['label'] = df['Close'].shift(-forecast_out)\n",
    "df.dropna(inplace=True)\n",
    "print(df.tail(10))"
   ]
  },
  {
   "cell_type": "code",
   "execution_count": 284,
   "metadata": {},
   "outputs": [],
   "source": [
    "# Data Preprocessing\n",
    "\n",
    "X = np.array(df[['Close','HL_PCT',\"PCT_change\",'Volume']])\n",
    "y = np.array(df['label'])\n",
    "\n",
    "X = preprocessing.scale(X)\n",
    "X = X[:-forecast_out+1]\n",
    "X_lately = X[-forecast_out:]\n",
    "y = y[:-forecast_out+1]\n",
    "\n",
    "X_train, X_test, y_train, y_test = train_test_split(X, y, test_size = 0.2)"
   ]
  },
  {
   "cell_type": "code",
   "execution_count": 285,
   "metadata": {},
   "outputs": [],
   "source": [
    "# Train Model\n",
    "\n",
    "lm = LinearRegression(n_jobs=-1)\n",
    "# lm = LinearRegression()\n",
    "svm_model_line = SVR()\n",
    "svm_model_poly = SVR(kernel=\"poly\")\n",
    "\n",
    "lm.fit(X_train, y_train)\n",
    "svm_model_line.fit(X_train, y_train)\n",
    "svm_model_poly.fit(X_train, y_train)\n",
    "\n",
    "with open(\"linearregression.pickle\",'wb') as f:\n",
    "    pickle.dump(lm, f)\n",
    "with open(\"SVMlinear.pickle\",\"wb\") as f:\n",
    "    pickle.dump(svm_model_line, f)\n",
    "with open(\"SVMpoly.pickle\",\"wb\") as f:\n",
    "    pickle.dump(svm_model_poly, f)"
   ]
  },
  {
   "cell_type": "code",
   "execution_count": 286,
   "metadata": {},
   "outputs": [],
   "source": [
    "# Calling Saved Model\n",
    "\n",
    "pickle_lm = open('linearregression.pickle','rb')\n",
    "lm = pickle.load(pickle_lm)\n",
    "pickle_SVMlinear = open('SVMlinear.pickle','rb')\n",
    "lm = pickle.load(pickle_SVMlinear)\n",
    "pickle_SVMpoly = open('SVMpoly.pickle','rb')\n",
    "lm = pickle.load(pickle_SVMpoly)"
   ]
  },
  {
   "cell_type": "code",
   "execution_count": 287,
   "metadata": {},
   "outputs": [
    {
     "name": "stdout",
     "output_type": "stream",
     "text": [
      "-0.20016730895888601 0.798300706621752 -0.20016730895888601 378\n"
     ]
    }
   ],
   "source": [
    "accuracy_line = lm.score(X_test, y_test)\n",
    "accuracy_svm_line = svm_model_line.score(X_test, y_test)\n",
    "accuracy_svm_poly = svm_model_poly.score(X_test, y_test)\n",
    "\n",
    "print(accuracy_line, accuracy_svm_line, accuracy_svm_poly, forecast_out)"
   ]
  },
  {
   "cell_type": "code",
   "execution_count": 288,
   "metadata": {},
   "outputs": [
    {
     "name": "stdout",
     "output_type": "stream",
     "text": [
      "[ 60.50883487  59.2006355   56.67906198  54.12641998  52.77572924\n",
      "  51.5064588   54.20735298  67.60286299 108.21295901  65.19096197\n",
      "  57.93076544  54.87378214  51.78826607 147.62417568  66.67299414\n",
      "  53.65296969 117.98285392  53.49101148  54.94864481  56.76427528\n",
      "  58.20326828  87.05906371  56.63213894  51.54846748  54.06184611\n",
      "  51.38206201  64.39159637  56.43744627  54.60502504  55.85471372\n",
      "  57.00757944  54.5420461   52.69981668  52.14948478  67.36734926\n",
      "  53.89750735  85.33239316  53.3231378   56.9702959   62.64867867\n",
      "  87.11050977  57.92605807  54.76141532  54.84771907  61.59474516\n",
      " 131.17893157 212.75954472 144.39083588  54.0526185   53.95614309\n",
      "  77.61485587  64.73461665  72.46233405  54.55179449  74.22427441\n",
      "  54.66906562  94.40539139  52.91891721  55.59764307  91.6568411\n",
      "  59.78146508  59.74653715  53.7816527   51.2016821   52.2127413\n",
      "  51.45370078  53.50476638  56.08750767  65.65779124  54.75230148\n",
      "  54.47820925  54.56893719  85.83144546  53.03173978  58.81916778\n",
      "  54.95481397  52.1778803  112.75013326  82.9221835   62.63948927\n",
      "  62.72441864  55.88039388  93.96983309  54.31511581  81.79213808\n",
      " 130.75123067 130.50990828  59.51184761  69.53223339 105.47279481\n",
      "  69.53035306  58.12922321  91.08899144  61.22826555  54.26880866\n",
      "  55.73931631  70.67306697  59.87156346  56.04451213  59.51048416\n",
      "  67.48119702  66.03598337  62.44371923  86.02193403  56.36761783\n",
      "  67.16132643  62.39772659  93.59591788  82.33026598  57.4493064\n",
      "  57.39983639  57.72250631  57.73312059 108.56053785  64.10982133\n",
      "  59.34722578  65.84178056  55.97973746  56.59292479  64.63326677\n",
      "  53.86431241  71.53678853  57.33928014  55.38490364  56.92593941\n",
      "  78.81989981  70.80732195  74.55168052  58.08151934  91.10582922\n",
      "  60.34736154  70.22233287 100.94413725  64.81602614  61.53740239\n",
      "  73.40484368  61.27327186  66.89592749  58.36762231 132.85415286\n",
      " 159.68893212  65.87989174  57.43655613  86.19273822  69.50682645\n",
      " 150.2539825   77.33612725  64.06436801 142.33672378  54.98686119\n",
      " 105.49569559  58.854651    84.66218818  84.71536056  65.19961112\n",
      "  77.85895318  65.13102445  68.32248762  86.94312051  76.67558697\n",
      "  66.04180248  67.57834772  63.57790578 173.29821675 140.2687544\n",
      " 134.69483273  79.32956894  77.24161143  68.75195146 152.73631682\n",
      "  98.73489899 132.24698774 288.60139577  61.54545629  79.19879181\n",
      " 110.22347957  80.44533113  63.6698412   86.76658539  89.57420105\n",
      "  85.22047782  58.54546484  62.64267724  65.65761721  73.25638941\n",
      "  74.2736125   65.93000375  79.46397859  62.58453677  63.17325426\n",
      "  84.97257154 209.12112675  64.11718236  78.1715737   70.99257577\n",
      "  81.28779435  71.35766245  68.35472736  80.81503608  86.0530502\n",
      "  69.95758131  75.21396497  86.24134604  75.98650366  93.31800125\n",
      "  92.82133811  69.02796139  73.27370774 104.35551851  68.37217953\n",
      "  70.0967798   90.93639122 103.15801133  73.67315177  95.021249\n",
      "  73.1192393   98.5453022   85.99670894  86.80450424  67.57997523\n",
      "  74.5596909   82.87662297 104.82400932 110.46861314  71.28148133\n",
      "  71.95987914 116.14004267  77.35870718  77.1359862   79.95170963\n",
      "  78.00449513  78.12441104  90.5445201   76.82158337  86.73615572\n",
      "  76.86517363  77.65243961  77.72928536  86.96656841  78.75351768\n",
      "  84.0531331   88.28248679  95.4560465   89.09641117  74.67850836\n",
      "  92.26390701  80.48370487  80.32677935  78.35579928  73.08849558\n",
      "  76.65584468  79.70487374  76.39555616  82.03891216 113.60793466\n",
      "  87.26021957  83.66347284  87.1645557   84.57405511  90.64160589\n",
      "  87.20312092  85.42856889 108.3270663   91.50013792 113.81565816\n",
      " 106.0072598   95.84891459  89.81755239 155.50238122  94.66698937\n",
      " 168.56977371  56.1187783   87.50351794  89.93967948  96.85366688\n",
      " 115.23162014  94.95479134 101.80448949  96.14911634 110.15415886\n",
      " 100.83617632 105.8433901  114.42361472  99.92344213 138.69179364\n",
      " 115.78378306 108.087553   111.68329295 110.80417999 155.21090748\n",
      " 111.49584075 106.23781576 102.59654047 156.26154261 111.26754864\n",
      " 105.58646409 109.06389839 129.52687347 115.13489809 106.55375521\n",
      " 111.5328988  110.89543504 212.77325247 108.87902596 111.43414559\n",
      " 150.85638361 110.6184087  125.81687913  98.27150338 104.21146493\n",
      " 117.61240032 103.20184544 124.43798467 109.70263688 170.26111726\n",
      " 163.5515359   89.41078854 128.46019835 205.27665502 140.28376187\n",
      " 171.65184807  97.818987    95.33559857 110.80147964 189.24961563\n",
      " 100.97195274 122.57384309  94.39334665 121.69957257 105.28582017\n",
      " 127.51825206 103.3341826  172.22340096 106.97806303  81.17882608\n",
      " 789.20406355 123.90492964 175.49305394 290.70844003 113.01384479\n",
      " 117.31528788 145.4517288  108.84778852 131.37406189 143.60236902\n",
      " 169.08473496 127.26873889 184.57564372 123.21594938 118.0846583\n",
      " 115.54466811 133.37739081 118.39355881 206.24531759 127.15185515\n",
      " 123.26259936 144.55409068 122.95426843 218.96364228 259.60158494\n",
      " 168.03601947 172.71152156 157.62793066 125.47393932 121.43338522\n",
      " 120.67702287 129.38996575 142.74773391 130.92226914 267.07298151\n",
      " 208.46532584  97.29750421 126.30297782 154.22464223 204.26740854\n",
      " 112.85286152 118.58437727 143.04678669]\n"
     ]
    }
   ],
   "source": [
    "forecast_set = lm.predict(X_lately)\n",
    "print(forecast_set)"
   ]
  },
  {
   "cell_type": "code",
   "execution_count": 289,
   "metadata": {},
   "outputs": [],
   "source": [
    "df[\"Forecast\"] = np.nan\n",
    "\n",
    "last_date = df.iloc[-1].name\n",
    "last_unix = last_date.timestamp()\n",
    "one_day = 86400\n",
    "next_unix = last_unix + one_day\n",
    "\n",
    "for i in forecast_set:\n",
    "    next_date = next_unix\n",
    "    next_unix += one_day\n",
    "    df.loc[next_date] = [np.nan for _ in range(len(df.columns)-1)] + [i]\n",
    "    \n"
   ]
  },
  {
   "cell_type": "code",
   "execution_count": 290,
   "metadata": {},
   "outputs": [
    {
     "data": {
      "image/png": "[encoded data removed]",
      "text/plain": [
       "<Figure size 640x480 with 1 Axes>"
      ]
     },
     "metadata": {},
     "output_type": "display_data"
    }
   ],
   "source": [
    "df['Close'].plot()\n",
    "df[\"Forecast\"].plot()\n",
    "plt.legend(loc=4)\n",
    "plt.xlabel('Date')\n",
    "plt.ylabel('Price')\n",
    "plt.show()"
   ]
  },
  {
   "cell_type": "markdown",
   "metadata": {},
   "source": [
    "## How to program the Best Fit Slope "
   ]
  },
  {
   "cell_type": "code",
   "execution_count": 258,
   "metadata": {},
   "outputs": [
    {
     "data": {
      "image/png": "[encoded data removed]",
      "text/plain": [
       "<Figure size 640x480 with 1 Axes>"
      ]
     },
     "metadata": {},
     "output_type": "display_data"
    },
    {
     "data": {
      "text/plain": [
       "<matplotlib.collections.PathCollection at 0x20445c74050>"
      ]
     },
     "execution_count": 258,
     "metadata": {},
     "output_type": "execute_result"
    },
    {
     "data": {
      "image/png": "[encoded data removed]",
      "text/plain": [
       "<Figure size 640x480 with 1 Axes>"
      ]
     },
     "metadata": {},
     "output_type": "display_data"
    }
   ],
   "source": [
    "from statistics import mean\n",
    "import numpy as np\n",
    "import matplotlib.pyplot as plt\n",
    "import random\n",
    "\n",
    "x = [1,2,3,4,5,6]\n",
    "y = [5,4,6,5,6,7]\n",
    "\n",
    "plt.scatter(x,y)\n",
    "plt.show()\n",
    "\n",
    "xs = np.array(x,dtype=np.float64)\n",
    "ys = np.array(y,dtype=np.float64)\n",
    "\n",
    "plt.scatter(xs,ys)\n"
   ]
  },
  {
   "cell_type": "code",
   "execution_count": 267,
   "metadata": {},
   "outputs": [
    {
     "name": "stdout",
     "output_type": "stream",
     "text": [
      "1.0536938397133409 1122.5040701851929 1.0536938397133409 1122.5040701851929\n",
      "0.19195657425117352\n"
     ]
    },
    {
     "data": {
      "image/png": "[encoded data removed]",
      "text/plain": [
       "<Figure size 640x480 with 1 Axes>"
      ]
     },
     "metadata": {},
     "output_type": "display_data"
    }
   ],
   "source": [
    "def slope(x,y):\n",
    "    m = ( (mean(x) * mean(y)) - mean(x*y) ) / ( (mean(x))**2 - mean(x*x) )\n",
    "    return m\n",
    "\n",
    "def intercept(x,y,m):\n",
    "    b = mean(y) - m * mean(x)\n",
    "    return b\n",
    "\n",
    "def slope_intercept(x,y):\n",
    "    m = ( (mean(x) * mean(y)) - mean(x*y) ) / ( (mean(x))**2 - mean(x*x) )\n",
    "    b = mean(y) - m * mean(x)\n",
    "    return m,b\n",
    "\n",
    "def mse(y_org,y_line):\n",
    "    return sum( (y_org - y_line)**2 )\n",
    "\n",
    "def R2(y_org,y_line):\n",
    "    y_mean_line = [mean(y_org) for y in y_org]\n",
    "    mse_line = mse(y_org,y_line)\n",
    "    mse_mean = mse(y_org,y_mean_line)\n",
    "    return 1 - (mse_line / mse_mean)\n",
    "\n",
    "def rand(total,beg,end):\n",
    "    x = []\n",
    "    y = []\n",
    "    for i in range(total):\n",
    "        x.append(random.randint(beg, end))\n",
    "        y.append(random.randint(beg, 3*end))\n",
    "    return np.array(x,dtype=np.float64), np.array(y,dtype=np.float64)\n",
    "\n",
    "xs, ys = rand(10,1,1000)\n",
    "\n",
    "m = slope(xs,ys)\n",
    "b = intercept(xs,ys,m)\n",
    "slope_m, intercept_b = slope_intercept(xs,ys)\n",
    "\n",
    "print(m,b, slope_m, intercept_b)\n",
    "\n",
    "y_line = [(m*x+b) for x in xs]\n",
    "\n",
    "predict_x = 8\n",
    "predict_y = m*predict_x + b\n",
    "\n",
    "r_squared = R2(ys,y_line)\n",
    "print(r_squared)\n",
    "\n",
    "plt.scatter(xs,ys)\n",
    "plt.scatter(predict_x,predict_y)\n",
    "plt.plot(xs,y_line)\n",
    "plt.show()"
   ]
  },
  {
   "cell_type": "code",
   "execution_count": null,
   "metadata": {},
   "outputs": [],
   "source": []
  },
  {
   "cell_type": "code",
   "execution_count": null,
   "metadata": {},
   "outputs": [],
   "source": []
  },
  {
   "cell_type": "code",
   "execution_count": null,
   "metadata": {},
   "outputs": [],
   "source": []
  },
  {
   "cell_type": "code",
   "execution_count": null,
   "metadata": {},
   "outputs": [],
   "source": []
  }
 ],
 "metadata": {
  "kernelspec": {
   "display_name": "Python 3",
   "language": "python",
   "name": "python3"
  },
  "language_info": {
   "codemirror_mode": {
    "name": "ipython",
    "version": 3
   },
   "file_extension": ".py",
   "mimetype": "text/x-python",
   "name": "python",
   "nbconvert_exporter": "python",
   "pygments_lexer": "ipython3",
   "version": "3.11.2"
  }
 },
 "nbformat": 4,
 "nbformat_minor": 2
}
