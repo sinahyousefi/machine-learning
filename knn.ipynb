{
 "cells": [
  {
   "cell_type": "markdown",
   "metadata": {},
   "source": [
    "## Classification w/ K Nearest Neighbors Intro"
   ]
  },
  {
   "cell_type": "code",
   "execution_count": 3,
   "metadata": {},
   "outputs": [],
   "source": [
    "import pandas as pd\n",
    "import math\n",
    "import numpy as np\n",
    "from sklearn import preprocessing, neighbors\n",
    "from sklearn.svm import SVR\n",
    "from sklearn.model_selection import train_test_split\n",
    "import matplotlib.pyplot as plt\n",
    "import datetime\n",
    "import pickle\n",
    "\n"
   ]
  },
  {
   "cell_type": "code",
   "execution_count": 23,
   "metadata": {},
   "outputs": [
    {
     "name": "stdout",
     "output_type": "stream",
     "text": [
      "   clump_thickness  unif_cell_size  unif_cell_shape  marg_adhesion   \n",
      "0                5               1                1              1  \\\n",
      "1                5               4                4              5   \n",
      "2                3               1                1              1   \n",
      "3                6               8                8              1   \n",
      "4                4               1                1              3   \n",
      "\n",
      "   single_epith_cell_size bare_nuclei  bland_chrom  norm_nucleoli  mitoses   \n",
      "0                       2           1            3              1        1  \\\n",
      "1                       7          10            3              2        1   \n",
      "2                       2           2            3              1        1   \n",
      "3                       3           4            3              7        1   \n",
      "4                       2           1            3              1        1   \n",
      "\n",
      "   class  \n",
      "0      2  \n",
      "1      2  \n",
      "2      2  \n",
      "3      2  \n",
      "4      2  \n"
     ]
    }
   ],
   "source": [
    "df = pd.read_csv('breast+cancer+wisconsin+original/breast-cancer-wisconsin.data')\n",
    "# print(df.head())\n",
    "# print(df[df.isin(['?'])])\n",
    "\n",
    "df.replace('?', -9999, inplace=True)\n",
    "\n",
    "df.drop([\"id\"], axis=1, inplace=True)\n",
    "print(df.head())"
   ]
  },
  {
   "cell_type": "code",
   "execution_count": 31,
   "metadata": {},
   "outputs": [
    {
     "name": "stdout",
     "output_type": "stream",
     "text": [
      "140 559 140 559\n"
     ]
    }
   ],
   "source": [
    "# Data Preprocessing\n",
    "\n",
    "x = np.array(df.drop('class', axis=1))\n",
    "y = np.array(df['class'])\n",
    "\n",
    "x_train, x_test, y_train, y_test = train_test_split(x, y, test_size=0.2)\n",
    "print(len(x_test), len(x_train), len(y_test), len(y_train))"
   ]
  },
  {
   "cell_type": "code",
   "execution_count": 32,
   "metadata": {},
   "outputs": [
    {
     "data": {
      "text/plain": [
       "0.9571428571428572"
      ]
     },
     "execution_count": 32,
     "metadata": {},
     "output_type": "execute_result"
    }
   ],
   "source": [
    "# train model\n",
    "\n",
    "model = neighbors.KNeighborsClassifier()\n",
    "model.fit(x_train, y_train)\n",
    "accuracy = model.score(x_test, y_test)\n",
    "accuracy"
   ]
  },
  {
   "cell_type": "code",
   "execution_count": 40,
   "metadata": {},
   "outputs": [
    {
     "data": {
      "text/plain": [
       "array([2, 2], dtype=int64)"
      ]
     },
     "execution_count": 40,
     "metadata": {},
     "output_type": "execute_result"
    }
   ],
   "source": [
    "example_measure = np.array([[4,2,1,1,1,2,3,2,1],[4,2,1,3,2,2,3,2,1]])\n",
    "example_measure = example_measure.reshape(len(example_measure), -1)\n",
    "\n",
    "prediction = model.predict(example_measure)\n",
    "\n",
    "prediction"
   ]
  },
  {
   "cell_type": "code",
   "execution_count": null,
   "metadata": {},
   "outputs": [],
   "source": []
  }
 ],
 "metadata": {
  "kernelspec": {
   "display_name": "Python 3",
   "language": "python",
   "name": "python3"
  },
  "language_info": {
   "codemirror_mode": {
    "name": "ipython",
    "version": 3
   },
   "file_extension": ".py",
   "mimetype": "text/x-python",
   "name": "python",
   "nbconvert_exporter": "python",
   "pygments_lexer": "ipython3",
   "version": "3.11.2"
  }
 },
 "nbformat": 4,
 "nbformat_minor": 2
}
